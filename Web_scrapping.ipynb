{
  "nbformat": 4,
  "nbformat_minor": 0,
  "metadata": {
    "colab": {
      "provenance": [],
      "authorship_tag": "ABX9TyODxxRw235yID0sERpUAu66",
      "include_colab_link": true
    },
    "kernelspec": {
      "name": "python3",
      "display_name": "Python 3"
    },
    "language_info": {
      "name": "python"
    }
  },
  "cells": [
    {
      "cell_type": "markdown",
      "metadata": {
        "id": "view-in-github",
        "colab_type": "text"
      },
      "source": [
        "<a href=\"https://colab.research.google.com/github/Addofemi/Web-Scraping-Project/blob/main/Web_scrapping.ipynb\" target=\"_parent\"><img src=\"https://colab.research.google.com/assets/colab-badge.svg\" alt=\"Open In Colab\"/></a>"
      ]
    },
    {
      "cell_type": "code",
      "source": [
        "cd Web-Scraping-Project/"
      ],
      "metadata": {
        "colab": {
          "base_uri": "https://localhost:8080/"
        },
        "id": "2IkGH29r4pls",
        "outputId": "648e3b17-1f8e-40f8-9672-00d1267c376c"
      },
      "execution_count": 3,
      "outputs": [
        {
          "output_type": "stream",
          "name": "stdout",
          "text": [
            "/content/Web-Scraping-Project\n"
          ]
        }
      ]
    },
    {
      "cell_type": "code",
      "source": [
        "ls"
      ],
      "metadata": {
        "colab": {
          "base_uri": "https://localhost:8080/"
        },
        "id": "sVlmpRaa4xre",
        "outputId": "eebce7e7-a436-4b2c-fe5c-75149f13e0c1"
      },
      "execution_count": 4,
      "outputs": [
        {
          "output_type": "stream",
          "name": "stdout",
          "text": [
            "README.md\n"
          ]
        }
      ]
    },
    {
      "cell_type": "code",
      "source": [
        "import requests\n",
        "from bs4 import BeautifulSoup\n",
        "import pandas as pd\n",
        "import time"
      ],
      "metadata": {
        "id": "XfsY8bU2321g"
      },
      "execution_count": 1,
      "outputs": []
    },
    {
      "cell_type": "code",
      "execution_count": null,
      "metadata": {
        "id": "TGFWQk62sedC"
      },
      "outputs": [],
      "source": [
        "BASE_URL = \"http://books.toscrape.com/catalogue/page-{}.html\"\n",
        "BASE_SITE = \"http://books.toscrape.com/catalogue/\"\n",
        "\n",
        "books = []\n",
        "\n",
        "for page in range(1, 51):  # Loop through all 50 pages\n",
        "    print(f\"Scraping page {page}...\")\n",
        "    url = BASE_URL.format(page)\n",
        "    response = requests.get(url)\n",
        "    soup = BeautifulSoup(response.text, 'html.parser')\n",
        "\n",
        "    for book in soup.find_all(\"article\", class_=\"product_pod\"):\n",
        "        # Basic info from listing page\n",
        "        title = book.h3.a[\"title\"]\n",
        "        price = book.find(\"p\", class_=\"price_color\").text.strip()\n",
        "        rating = book.p[\"class\"][1]\n",
        "\n",
        "        # Book detail page link\n",
        "        book_url = BASE_SITE + book.h3.a[\"href\"].replace('../../../', '')\n",
        "        book_resp = requests.get(book_url)\n",
        "        book_soup = BeautifulSoup(book_resp.text, 'html.parser')\n",
        "\n",
        "        # Category\n",
        "        category = book_soup.find(\"ul\", class_=\"breadcrumb\").find_all(\"li\")[2].text.strip()\n",
        "\n",
        "        # Product description\n",
        "        desc_tag = book_soup.find(\"div\", id=\"product_description\")\n",
        "        description = desc_tag.find_next_sibling(\"p\").text.strip() if desc_tag else \"\"\n",
        "\n",
        "        # Table info (UPC, stock)\n",
        "        table_rows = book_soup.find(\"table\", class_=\"table table-striped\").find_all(\"tr\")\n",
        "        upc = table_rows[0].find(\"td\").text.strip()\n",
        "        stock_text = table_rows[5].find(\"td\").text.strip()\n",
        "\n",
        "        # Extract stock number (e.g., \"In stock (22 available)\")\n",
        "        stock_count = ''.join([c for c in stock_text if c.isdigit()])\n",
        "\n",
        "        # Availability (from list page, cleaned)\n",
        "        availability = book.find(\"p\", class_=\"instock availability\").text.strip()\n",
        "\n",
        "        books.append({\n",
        "            \"Title\": title,\n",
        "            \"Price\": price,\n",
        "            \"Availability\": availability,\n",
        "            \"Stock Count\": stock_count,\n",
        "            \"Rating\": rating,\n",
        "            \"Category\": category,\n",
        "            \"UPC\": upc,\n",
        "            \"Description\": description\n",
        "        })\n",
        "\n",
        "        time.sleep(0.2)  # short delay for detail page requests\n",
        "\n",
        "    time.sleep(1)  # delay for page requests\n",
        "\n",
        "# Save to CSV\n",
        "df = pd.DataFrame(books)\n",
        "df.to_csv(\"../scraped_data/books_detailed_dataset.csv\", index=False, encoding=\"utf-8\")\n",
        "print(\"Scraping complete! Data saved to books_detailed_dataset.csv\")\n",
        "\n"
      ]
    },
    {
      "cell_type": "code",
      "source": [
        "!pwd"
      ],
      "metadata": {
        "colab": {
          "base_uri": "https://localhost:8080/"
        },
        "id": "QTmI6UvH4agr",
        "outputId": "eab6bc7b-c66d-410c-d6e7-7eb9bbdf1c6e"
      },
      "execution_count": 2,
      "outputs": [
        {
          "output_type": "stream",
          "name": "stdout",
          "text": [
            "/content\n"
          ]
        }
      ]
    }
  ]
}